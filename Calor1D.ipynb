{
 "cells": [
  {
   "cell_type": "code",
   "execution_count": null,
   "metadata": {},
   "outputs": [],
   "source": [
    "# Importamos el paquete Plots para graficar los resultados\n",
    "using Plots"
   ]
  },
  {
   "cell_type": "code",
   "execution_count": 2,
   "metadata": {},
   "outputs": [
    {
     "data": {
      "text/plain": [
       "f (generic function with 1 method)"
      ]
     },
     "execution_count": 2,
     "metadata": {},
     "output_type": "execute_result"
    }
   ],
   "source": [
    "function solve_heat_equation_1d(nx, nt, L, T, kappa)\n",
    "    # Parámetros de la malla y paso de tiempo\n",
    "    dx = L / (nx - 1)\n",
    "    dt = T / nt\n",
    "    \n",
    "    # Creamos un vector para almacenar la solución\n",
    "    u = zeros(nx, nt + 1)\n",
    "    \n",
    "    # Condición inicial (u(x,0) = f(x))\n",
    "    x = collect(0:dx:L)\n",
    "    u[:, 1] .= f.(x)\n",
    "    \n",
    "    # Coeficiente de difusión (kappa)\n",
    "    alpha= kappa * dt / dx^2\n",
    "    \n",
    "    # Aplicamos el método de diferencias finitas explícitas\n",
    "    for t in 1:nt\n",
    "        for i in 2:nx-1\n",
    "            u[i, t + 1] = u[i, t] + alpha * (u[i+1, t] - 2*u[i, t] + u[i-1, t])\n",
    "        end\n",
    "    end\n",
    "    \n",
    "    return x, u\n",
    "end\n",
    "\n",
    "# Condición inicial f(x) (puedes modificar esta función según tus necesidades)\n",
    "function f(x)\n",
    "    return exp.(-(x .- 0.5).^2 / 0.1)\n",
    "end"
   ]
  },
  {
   "cell_type": "code",
   "execution_count": 3,
   "metadata": {},
   "outputs": [
    {
     "ename": "LoadError",
     "evalue": "UndefVarError: `plot` not defined",
     "output_type": "error",
     "traceback": [
      "UndefVarError: `plot` not defined",
      "",
      "Stacktrace:",
      " [1] top-level scope",
      "   @ In[3]:12"
     ]
    }
   ],
   "source": [
    "# Parámetros de la ecuación\n",
    "nx = 100      # Número de puntos de la malla espacial\n",
    "nt = 500      # Número de pasos de tiempo\n",
    "L = 1.0       # Longitud del dominio espacial\n",
    "T = 0.1       # Tiempo total de simulación\n",
    "kappa = 0.01  # Coeficiente de difusión\n",
    "\n",
    "# Resolvemos la ecuación de calor\n",
    "x, u = solve_heat_equation_1d(nx, nt, L, T, kappa)\n",
    "\n",
    "# Graficamos los resultados usando Plots\n",
    "plot(x, u, xlabel=\"x\", ylabel=\"u(x, t)\", label=[string(\"t = \", i * T / nt) for i in 0:nt])"
   ]
  },
  {
   "cell_type": "code",
   "execution_count": null,
   "metadata": {},
   "outputs": [],
   "source": []
  },
  {
   "cell_type": "code",
   "execution_count": null,
   "metadata": {},
   "outputs": [],
   "source": []
  }
 ],
 "metadata": {
  "kernelspec": {
   "display_name": "Julia 1.9.1",
   "language": "julia",
   "name": "julia-1.9"
  },
  "language_info": {
   "name": "julia"
  },
  "orig_nbformat": 4
 },
 "nbformat": 4,
 "nbformat_minor": 2
}
